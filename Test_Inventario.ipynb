{
 "cells": [
  {
   "cell_type": "code",
   "execution_count": 24,
   "metadata": {},
   "outputs": [
    {
     "name": "stdout",
     "output_type": "stream",
     "text": [
      "       Item  Valor  Cantidad\n",
      "0  HP Small    0.5         1\n",
      "1  HP Large    1.0         0\n",
      "2  MP Small    0.5         1\n",
      "3  MP Large    1.0         0\n",
      "Itachi obtuvo 5 consumibles HP Small!\n",
      "{'hp': 1000, 'mp': 1000}\n",
      "       Item  Valor  Cantidad\n",
      "0  HP Small    0.5         6\n",
      "1  HP Large    1.0         0\n",
      "2  MP Small    0.5         1\n",
      "3  MP Large    1.0         0\n",
      "Itachi recibió 750 de daño!\n",
      "{'hp': 250, 'mp': 300}\n",
      "Itachi recuperó 500.0 hp!\n",
      "No tiene pociones HP Large disponible.\n",
      "Itachi recuperó 500.0 mp!\n",
      "{'hp': 750.0, 'mp': 800.0}\n",
      "       Item  Valor  Cantidad\n",
      "0  HP Small    0.5         5\n",
      "1  HP Large    1.0         0\n",
      "2  MP Small    0.5         0\n",
      "3  MP Large    1.0         0\n"
     ]
    }
   ],
   "source": [
    "import pandas as pd \n",
    "\n",
    "#Definición de inventario general/dataframe general de los ítems\n",
    "keys=['Item','Tipo','Valor','Cantidad','cod']\n",
    "nm=['HP Small','HP Large','MP Small','MP Large']\n",
    "tp=['hp','hp','mp','mp']\n",
    "size=['small','large','small','large']\n",
    "per=[0.5,1,0.5,1]\n",
    "num=[1,0,1,0]\n",
    "cod=['hps','hpl','mps','mpl']\n",
    "values=[nm,tp,per,num,cod]\n",
    "items_database = pd.DataFrame({key:value for key, value in zip(keys, values)})\n",
    "keys=['Item','Valor','Cantidad']\n",
    "values=[nm,per,num]\n",
    "inv_prota= pd.DataFrame({key:value for key, value in zip(keys, values)})\n",
    "#Fin de la definición----------------------------------------------\n",
    "\n",
    "#DDefinición de la clase del prota: \n",
    "class Prota:\n",
    "    def __init__(self,name,stats,inv):\n",
    "            #Name: str del nombre; stats: lista con las stats ([HP Maximo, MP Maximo]); \n",
    "            #inv: dataframe general de los items\n",
    "        self.stats_max={\"hp\":stats[0],\"mp\":stats[1]}\n",
    "        self.state={\"hp\":stats[0],\"mp\":stats[1]}\n",
    "        self.name=name\n",
    "        self.inv=inv\n",
    "    #Cuando el prota reciba un putazo\n",
    "    def putazo (self, hit):\n",
    "        self.state['hp']=self.state['hp']-hit\n",
    "        print(f\"{self.name} recibió {hit} de daño!\")\n",
    "    \n",
    "   # def hit ()\n",
    "#Fin de la definiión---------------------------------------------------\n",
    "\n",
    "#Definiciónd e clase de ítem\n",
    "class Item:\n",
    "    def __init__(self,cod,inv,descrip='Item random'):\n",
    "            #cod: código del dataframe de los ítems que referencia al ítem (ejemplo, hps para poción de hp\n",
    "            # pequeña); inv: dataframe de los ítems; descrip=Descripción del ítem\n",
    "        self.cod=cod\n",
    "        j=0\n",
    "        for i in inv['cod']:\n",
    "            if self.cod==i:\n",
    "                break\n",
    "            j+=1\n",
    "        self.dtb=inv\n",
    "        self.name=self.dtb.at[j,'Item']\n",
    "        self.index=j#Número de fila del ítem para extraer sus características\n",
    "        self.stat=self.dtb.at[j,'Tipo']\n",
    "        self.valor=self.dtb.at[j,'Valor']\n",
    "        self.descrip=descrip\n",
    "    #Método  para el uso de los ítem\n",
    "    def use (self, pj):\n",
    "            #pj: el objeto del personaje que usa el ítem\n",
    "        if pj.inv.at[self.index,'Cantidad']==0:\n",
    "            print(f\"No tiene pociones {self.name} disponible.\")\n",
    "        else:\n",
    "            pj.state[self.stat]=pj.state[self.stat]+pj.stats_max[self.stat]*self.valor\n",
    "            if pj.state[self.stat]>=pj.stats_max[self.stat]:\n",
    "                pj.state[self.stat]=pj.stats_max[self.stat]\n",
    "                print(f\"{pj.name} recuperó toda su {self.stat}!\")\n",
    "            else:\n",
    "                print(f\"{pj.name} recuperó {pj.stats_max[self.stat]*self.valor} {self.stat}!\")\n",
    "            pj.inv.at[self.index,'Cantidad']=pj.inv.at[self.index,'Cantidad']-1\n",
    "    #Método para adquirir el cierta cantidad del mismo ítem\n",
    "    def adq (self,pj,n):\n",
    "            #pj: Objeto del personaje que adquiere el ítem, n: cantidad del mismo ítem que adquiere\n",
    "        pj.inv.at[self.index,'Cantidad']=pj.inv.at[self.index,'Cantidad']+n\n",
    "        print(f'Itachi obtuvo {n} consumibles {self.name}!')\n",
    "    def __repr__ (self):\n",
    "        return(self.descrip)\n",
    "#Fin de la defiición-------------------------\n",
    "\n",
    "#Test del código\n",
    "Itachi=Prota('Itachi',stats=[1000,1000],inv=inv_prota)\n",
    "hps=Item(cod='hps',inv=items_database)\n",
    "hpl=Item(cod='hpl',inv=items_database)\n",
    "mps=Item(cod='mps',inv=items_database)\n",
    "print(Itachi.inv)\n",
    "hps.adq(pj=Itachi,n=5)\n",
    "print(Itachi.state)\n",
    "print(Itachi.inv)\n",
    "Itachi.putazo(750)\n",
    "Itachi.state['mp']=300\n",
    "print(Itachi.state)\n",
    "hps.use(Itachi)\n",
    "hpl.use(Itachi)\n",
    "mps.use(Itachi)\n",
    "print(Itachi.state)\n",
    "print(Itachi.inv)\n"
   ]
  },
  {
   "cell_type": "code",
   "execution_count": 193,
   "metadata": {},
   "outputs": [
    {
     "data": {
      "text/plain": [
       "10"
      ]
     },
     "execution_count": 193,
     "metadata": {},
     "output_type": "execute_result"
    }
   ],
   "source": [
    "{'hp':5,'mp':10}['hp']+"
   ]
  },
  {
   "cell_type": "code",
   "execution_count": 46,
   "metadata": {},
   "outputs": [
    {
     "data": {
      "text/plain": [
       "10511"
      ]
     },
     "execution_count": 46,
     "metadata": {},
     "output_type": "execute_result"
    }
   ],
   "source": [
    "class test:\n",
    "    def __init__(self,a,b=5,c=10):\n",
    "        self.a=a\n",
    "        self.b=b\n",
    "        self.c=c\n",
    "    def __repr__(self):\n",
    "        return(f'{self.a}{self.b}{self.c}')\n",
    "test(10,c=11)"
   ]
  },
  {
   "cell_type": "code",
   "execution_count": 164,
   "metadata": {},
   "outputs": [
    {
     "name": "stdout",
     "output_type": "stream",
     "text": [
      "       Item Restauración Tamaño Stat  Cantidad  cod\n",
      "0  HP Small           hp  small  0.5         0  hps\n",
      "1  HP Large           hp  large    1         0  hpl\n",
      "2  MP Small           mp  small  0.5         0  mps\n",
      "3  MP Large           mp  large    1         0  mpl\n",
      "HP Small\n",
      "       Item Restauración Tamaño Stat  Cantidad  cod\n",
      "0  HP Small           hp  small  0.5         5  hps\n",
      "1  HP Large           hp  large    1         0  hpl\n",
      "2  MP Small           mp  small  0.5         0  mps\n",
      "3  MP Large           mp  large    1         0  mpl\n"
     ]
    }
   ],
   "source": [
    "keys=['Item','Restauración','Stat','Cantidad','cod']\n",
    "nm=['HP Small','HP Large','MP Small','MP Large']\n",
    "tp=['hp','hp','mp','mp']\n",
    "per=['0.5','1','0.5','1']\n",
    "num=[0,0,0,0]\n",
    "cod=['hps','hpl','mps','mpl']\n",
    "values=[nm,tp,per,num,cod]\n",
    "diccionario = {key:value for key, value in zip(keys, values)}\n",
    "inven=pd.DataFrame(diccionario)\n",
    "print(inven)\n",
    "#inven.at[3,'Cantidad']=inven.at[3,'Cantidad']-1\n",
    "test='hps'\n",
    "j=0\n",
    "for i in inven['cod']:\n",
    "    if test==i:\n",
    "        print(inven.at[j,'Item'])\n",
    "        break\n",
    "    j+=1\n",
    "#print(inven.at[j,'Restauración'])\n",
    "inven.at[j,'Cantidad']+=5\n",
    "print(inven)"
   ]
  },
  {
   "cell_type": "code",
   "execution_count": null,
   "metadata": {},
   "outputs": [],
   "source": []
  },
  {
   "cell_type": "code",
   "execution_count": null,
   "metadata": {},
   "outputs": [],
   "source": []
  }
 ],
 "metadata": {
  "kernelspec": {
   "display_name": "Python 3",
   "language": "python",
   "name": "python3"
  },
  "language_info": {
   "codemirror_mode": {
    "name": "ipython",
    "version": 3
   },
   "file_extension": ".py",
   "mimetype": "text/x-python",
   "name": "python",
   "nbconvert_exporter": "python",
   "pygments_lexer": "ipython3",
   "version": "3.8.3"
  }
 },
 "nbformat": 4,
 "nbformat_minor": 4
}
