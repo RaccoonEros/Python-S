{
 "cells": [
  {
   "cell_type": "code",
   "execution_count": 1,
   "metadata": {},
   "outputs": [],
   "source": [
    "import pyaudio\n",
    "import struct\n",
    "import numpy as np\n",
    "import matplotlib.pyplot as plt"
   ]
  },
  {
   "cell_type": "code",
   "execution_count": 2,
   "metadata": {},
   "outputs": [],
   "source": [
    "import os\n",
    "import time\n",
    "from tkinter import TclError\n",
    "from scipy.fftpack import fft\n",
    "# Necesitaremos fft: La transformada rápida de fourier"
   ]
  },
  {
   "cell_type": "code",
   "execution_count": 3,
   "metadata": {},
   "outputs": [],
   "source": [
    "p = pyaudio.PyAudio()"
   ]
  },
  {
   "cell_type": "code",
   "execution_count": 4,
   "metadata": {},
   "outputs": [
    {
     "data": {
      "text/plain": [
       "{'index': 1,\n",
       " 'structVersion': 2,\n",
       " 'name': 'Mic in at front panel (black) (',\n",
       " 'hostApi': 0,\n",
       " 'maxInputChannels': 2,\n",
       " 'maxOutputChannels': 0,\n",
       " 'defaultLowInputLatency': 0.09,\n",
       " 'defaultLowOutputLatency': 0.09,\n",
       " 'defaultHighInputLatency': 0.18,\n",
       " 'defaultHighOutputLatency': 0.18,\n",
       " 'defaultSampleRate': 44100.0}"
      ]
     },
     "execution_count": 4,
     "metadata": {},
     "output_type": "execute_result"
    }
   ],
   "source": [
    "p.get_default_input_device_info()"
   ]
  },
  {
   "cell_type": "code",
   "execution_count": 5,
   "metadata": {},
   "outputs": [
    {
     "data": {
      "text/plain": [
       "{'index': 1,\n",
       " 'structVersion': 2,\n",
       " 'name': 'Mic in at front panel (black) (',\n",
       " 'hostApi': 0,\n",
       " 'maxInputChannels': 2,\n",
       " 'maxOutputChannels': 0,\n",
       " 'defaultLowInputLatency': 0.09,\n",
       " 'defaultLowOutputLatency': 0.09,\n",
       " 'defaultHighInputLatency': 0.18,\n",
       " 'defaultHighOutputLatency': 0.18,\n",
       " 'defaultSampleRate': 44100.0}"
      ]
     },
     "execution_count": 5,
     "metadata": {},
     "output_type": "execute_result"
    }
   ],
   "source": [
    "p.get_device_info_by_index(1)"
   ]
  },
  {
   "cell_type": "code",
   "execution_count": 6,
   "metadata": {},
   "outputs": [],
   "source": [
    "# Se utiliza para que las figuras de matplotlib se abran en otra ventana aparte\n",
    "%matplotlib tk\n",
    "\n",
    "# constantes\n",
    "CHUNK = 1024 * 64                 # número de objetos (de tipo FORMAT) almacenados a la vez\n",
    "FORMAT = pyaudio.paInt16     # Tipo de dato de cada observación\n",
    "CHANNELS = 1                 # Un canal para el micrófono\n",
    "RATE = 44100                 # muestras por segundo, i.e 44.1 kHz, estándar de la industria \n",
    "                             # para CDs, mp3. También 48 kHz es común para DVDs y Blu-rays\n",
    "# input_device_index=13"
   ]
  },
  {
   "cell_type": "code",
   "execution_count": 7,
   "metadata": {},
   "outputs": [],
   "source": [
    "notes=[\"Do\",\"Do#\",\"Re\",\"Re#\",\"Mi\",\"Fa\",\"Fa#\",\"Sol\",\"Sol#\",\"La\",\"La#\",\"Si\",\n",
    "       \"2Do\",\"2Do#\",\"2Re\",\"2Re#\",\"2Mi\",\"2Fa\",\"2Fa#\",\"2Sol\",\"2Sol#\",\"2La\",\"2La#\",\"2Si\",\n",
    "      \"3Do\",\"3Do#\",\"3Re\",\"3Re#\",\"3Mi\",\"3Fa\",\"3Fa#\",\"3Sol\",\"3Sol#\",\"3La\",\"3La#\",\"3Si\",\n",
    "      \"4Do\",\"4Do#\",\"4Re\",\"4Re#\",\"4Mi\",\"4Fa\",\"4Fa#\",\"4Sol\",\"4Sol#\",\"4La\",\"4La#\",\"4Si\"]\n",
    "# Esta lista contiene las notas musicales y sus octavas, entonces el 2, 3 y 4 antes de la nota denotarán que es 2, 3, o 4 \n",
    "# octavas por encima de la nota, tomé la nota Do que se encuentra 4 semitonos antes de la nota mi que genera la \n",
    "# sexta cuerda en la afinación estadar de guitarra."
   ]
  },
  {
   "cell_type": "code",
   "execution_count": 8,
   "metadata": {},
   "outputs": [],
   "source": [
    "fo=65.48\n",
    "r=1.059463\n",
    "data_frec_min=[fo-4]\n",
    "data_frec_max=[fo+4]\n",
    "for d in range(48):\n",
    "    data_frec_min.append(fo*r**(d+1)-4)\n",
    "    data_frec_max.append(fo*r**(d+1)+4)\n",
    "dfmin=np.array(data_frec_min)\n",
    "dfmax=np.array(data_frec_max)"
   ]
  },
  {
   "cell_type": "code",
   "execution_count": 9,
   "metadata": {},
   "outputs": [
    {
     "name": "stdout",
     "output_type": "stream",
     "text": [
      "stream started\n",
      "174.95994506752118\n",
      "2Fa\n",
      "174.28702220187688\n",
      "2Fa\n",
      "275.898374914168\n",
      "3Do#\n",
      "337.13435568780045\n",
      "337.13435568780045\n",
      "327.04051270313573\n",
      "3Mi\n",
      "329.0592813000687\n",
      "3Mi\n",
      "390.2952620737011\n",
      "3Sol\n",
      "438.0727855344473\n",
      "3La\n",
      "440.09155413138024\n",
      "3La\n",
      "549.1050583657589\n",
      "35.66491187914855\n",
      "657.445639734493\n",
      "4Mi\n",
      "413.17463950560773\n",
      "3Sol#\n",
      "2331.0048065918977\n",
      "318.2925154497597\n",
      "738.1963836118106\n",
      "4Fa#\n",
      "781.2634470130465\n",
      "4Sol\n",
      "826.3492790112155\n",
      "1958.878461890593\n",
      "232.83131151293205\n",
      "2La#\n",
      "656.0997940032045\n",
      "4Mi\n",
      "658.1185626001374\n",
      "4Mi\n",
      "492.57953765163654\n",
      "3Si\n",
      "553.1425955596246\n",
      "4Do#\n",
      "553.815518425269\n",
      "4Do#\n",
      "446.82078278782336\n",
      "492.57953765163654\n",
      "3Si\n",
      "493.9253833829252\n",
      "3Si\n",
      "492.57953765163654\n",
      "3Si\n",
      "492.57953765163654\n",
      "3Si\n",
      "493.9253833829252\n",
      "3Si\n",
      "390.2952620737011\n",
      "3Sol\n",
      "439.4186312657359\n",
      "3La\n",
      "391.64110780498976\n",
      "3Sol\n",
      "328.3863584344244\n",
      "3Mi\n",
      "405.7724879835203\n",
      "stream stopped\n",
      "average frame rate = 1 FPS\n"
     ]
    }
   ],
   "source": [
    "# create matplotlib figure and axes\n",
    "fig, (ax1, ax2) = plt.subplots(2, figsize=(15, 7))\n",
    "\n",
    "# pyaudio class instance\n",
    "p = pyaudio.PyAudio()\n",
    "\n",
    "# stream object to get data from microphone\n",
    "stream = p.open(\n",
    "    format=FORMAT,\n",
    "    channels=CHANNELS,\n",
    "    rate=RATE,\n",
    "    input=True,\n",
    "    output=False,\n",
    "    frames_per_buffer=CHUNK\n",
    ")\n",
    "\n",
    "# variable for plotting\n",
    "x = np.arange(0, 2 * CHUNK, 2)       # samples (waveform)\n",
    "xf = np.linspace(0, RATE, CHUNK)     # frequencies (spectrum)\n",
    "\n",
    "# create a line object with random data\n",
    "line, = ax1.plot(x, np.random.rand(CHUNK), '-', lw=2)\n",
    "\n",
    "# create semilogx line for spectrum\n",
    "line_fft, = ax2.semilogx(xf, np.random.rand(CHUNK), '-', lw=2)\n",
    "\n",
    "# format waveform axes\n",
    "ax1.set_title('AUDIO WAVEFORM')\n",
    "ax1.set_xlabel('samples')\n",
    "ax1.set_ylabel('volume')\n",
    "ax1.set_ylim(-2**15, 2**15-1)\n",
    "#ax1.set_ylim(0, 255)\n",
    "#ax1.set_xlim(0, 2 * CHUNK)\n",
    "plt.setp(ax1, xticks=[0, CHUNK, 2 * CHUNK])\n",
    "\n",
    "# format spectrum axes\n",
    "ax2.set_xlim(20, RATE / 2)\n",
    "ax2.set_ylim(0, 25)\n",
    "ax2.set_xlabel('Frecuencias')\n",
    "\n",
    "print('stream started')\n",
    "\n",
    "# for measuring frame rate\n",
    "frame_count = 0\n",
    "start_time = time.time()\n",
    "\n",
    "while True:\n",
    "    \n",
    "    # binary data\n",
    "    data = stream.read(CHUNK)  \n",
    "    \n",
    "    # convert data to integers, make np array, then offset it by 127\n",
    "    #data_int = struct.unpack(str(2 * CHUNK) + 'B', data)\n",
    "    \n",
    "    # create np array and offset by 128\n",
    "    #data_np = np.array(data_int, dtype='b')[::2] + 128\n",
    "    data_np = struct.unpack(str(CHUNK) + 'h', data)\n",
    "    \n",
    "    \n",
    "    line.set_ydata(data_np)\n",
    "    \n",
    "    # compute FFT and update line\n",
    "    yf = fft(data_np)\n",
    "    auxiliar=np.where(yf==np.amax(yf))\n",
    "    indice=auxiliar[0][0]\n",
    "    if(xf[indice]<=20000):\n",
    "        print(xf[indice])\n",
    "        contador=0\n",
    "        for x, y in zip(dfmin, dfmax):\n",
    "            if(x<=xf[indice]<=y):\n",
    "                nota=notes[contador]\n",
    "                print(nota)\n",
    "                break\n",
    "            contador+=1\n",
    "    line_fft.set_ydata(np.abs(yf[0:CHUNK])  / (128 * CHUNK))\n",
    "    \n",
    "    # update figure canvas\n",
    "    try:\n",
    "        fig.canvas.draw()\n",
    "        fig.canvas.flush_events()\n",
    "        frame_count += 1\n",
    "        \n",
    "    except TclError:\n",
    "        # Cerramos el canal de audio\n",
    "        p.close(stream)\n",
    "        \n",
    "        # calculate average frame rate\n",
    "        frame_rate = frame_count / (time.time() - start_time)\n",
    "        \n",
    "        print('stream stopped')\n",
    "        print('average frame rate = {:.0f} FPS'.format(frame_rate))\n",
    "        break"
   ]
  },
  {
   "cell_type": "code",
   "execution_count": null,
   "metadata": {},
   "outputs": [],
   "source": [
    "#Los datos mostrados anteriormente sin correr la celda, son los que generé al tocar notas de la primera cuerda\n",
    "#en guitarra acústica. Aveces le atina a la nota otras no."
   ]
  },
  {
   "cell_type": "code",
   "execution_count": null,
   "metadata": {},
   "outputs": [],
   "source": []
  },
  {
   "cell_type": "code",
   "execution_count": null,
   "metadata": {},
   "outputs": [],
   "source": []
  },
  {
   "cell_type": "code",
   "execution_count": null,
   "metadata": {},
   "outputs": [],
   "source": []
  },
  {
   "cell_type": "code",
   "execution_count": null,
   "metadata": {},
   "outputs": [],
   "source": []
  },
  {
   "cell_type": "code",
   "execution_count": null,
   "metadata": {},
   "outputs": [],
   "source": [
    "\n"
   ]
  },
  {
   "cell_type": "code",
   "execution_count": null,
   "metadata": {},
   "outputs": [],
   "source": []
  },
  {
   "cell_type": "code",
   "execution_count": null,
   "metadata": {},
   "outputs": [],
   "source": []
  },
  {
   "cell_type": "code",
   "execution_count": null,
   "metadata": {},
   "outputs": [],
   "source": []
  }
 ],
 "metadata": {
  "kernelspec": {
   "display_name": "Python 3",
   "language": "python",
   "name": "python3"
  },
  "language_info": {
   "codemirror_mode": {
    "name": "ipython",
    "version": 3
   },
   "file_extension": ".py",
   "mimetype": "text/x-python",
   "name": "python",
   "nbconvert_exporter": "python",
   "pygments_lexer": "ipython3",
   "version": "3.8.3"
  }
 },
 "nbformat": 4,
 "nbformat_minor": 4
}
