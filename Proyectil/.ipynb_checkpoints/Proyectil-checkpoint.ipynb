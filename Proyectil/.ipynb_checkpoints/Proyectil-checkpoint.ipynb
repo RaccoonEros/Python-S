{
 "cells": [
  {
   "cell_type": "markdown",
   "metadata": {},
   "source": [
    "## Primer proyecto: Lanzamiento de proyectiles con cinemática"
   ]
  },
  {
   "cell_type": "markdown",
   "metadata": {},
   "source": [
    "**Descripción general de la teoría: Cinemática en 2D**\n",
    "\n",
    "Las leyes del movimiento de Newton permiten predecir el movimiento entero de un cuerpo al que se le conoce las fuerzas que le actúan (recuerden, el famoso $ F = ma $ ). Existe un caso muy especial en el cual la *ÚNICA* fuerza involucrada es constante y en una sola dirección. A esto se le conoce como cinemática y se caracteriza parcialmente por la siguiente ecuación:\n",
    "\n",
    "$$\n",
    "y(t) = y_0 + v_{y_0} t + \\frac{at²}{2}\n",
    "$$\n",
    "\n",
    "Esta ecuación describe la **evolución** de la altura, \"$y$\", de una partícula (por ejemplo, una pelota) en cualquier tiempo $t$ luego de estar en cierto \"estado inicial\" ($y_0$, $v_{y_0}$) en el tiempo $t = 0$. Es decir, lo que sucede cuando lanzan una pelota hacia el cielo (movimiento **meramente horizontal**), subiendo inicialmente, y luego bajando hasta llegar al suelo.\n",
    "\n",
    "Pero... ¿Qué pasa si la pelota no la lanzo hacia el cielo si no que hacia adelante? Entonces existe otra ecuación que describe ese movimiento horizonal:\n",
    "\n",
    "$$\n",
    "x(t) = x_0 + v_{x_0} t\n",
    "$$\n",
    "\n",
    "Notemos que en este caso no tenemos un término de aceleración pues, como ya comentado, la aceleración ocurre **sólo en una dirección** y el eje $y$ fue elegido para concordar con ésta. Para juntar ambas ecuaciones definimos un objeto $\\vec{r}$ como un vector $\\vec{r}(t) = (x(t), y(t))$ en todo tiempo $t$. Es decir, una función vectorial. En este caso, el estado inicial se resume también como vectores:\n",
    "* Posición inicial: $r_0 = (x_0, y_0)$\n",
    "* Velocidad inicial: $v_0 = (v_{x_0}, v_{y_0})$\n",
    "* Estado total inicial: $(r_0, v_0)$\n"
   ]
  },
  {
   "cell_type": "markdown",
   "metadata": {},
   "source": [
    "A continuacion se presentara un codigo preliminar para tratar este tipo de situación de cinematica."
   ]
  },
  {
   "cell_type": "code",
   "execution_count": 5,
   "metadata": {},
   "outputs": [
    {
     "name": "stdout",
     "output_type": "stream",
     "text": [
      "Programa cálculo de Lanzamiento de Proyectil\n"
     ]
    },
    {
     "name": "stdin",
     "output_type": "stream",
     "text": [
      "Ingrese el valor de gravedad tomando en consideración el signo -9.81\n",
      "Ingrese la posicion horizontal inicial en (m):  aslkjfa\n"
     ]
    },
    {
     "name": "stdout",
     "output_type": "stream",
     "text": [
      "Valor ingresado no válido, por favor ingrese un numero\n"
     ]
    },
    {
     "name": "stdin",
     "output_type": "stream",
     "text": [
      "Ingrese la posicion horizontal inicial en (m):  0\n",
      "Ingrese la posicion vertical inicial en (m):  laksfklas\n"
     ]
    },
    {
     "name": "stdout",
     "output_type": "stream",
     "text": [
      "Valor ingresado no válido, por favor ingrese un numero\n"
     ]
    },
    {
     "name": "stdin",
     "output_type": "stream",
     "text": [
      "Ingrese la posicion vertical inicial en (m):  10\n",
      "Ingrese la rapidez inicial del objeto (m/s):  alkjf\n"
     ]
    },
    {
     "name": "stdout",
     "output_type": "stream",
     "text": [
      "Valor ingresado no válido, por favor ingrese un numero\n"
     ]
    },
    {
     "name": "stdin",
     "output_type": "stream",
     "text": [
      "Ingrese la rapidez inicial del objeto (m/s):  20\n",
      "Ingrese el angulo del lanzamiento (°):  lkjdcvbkjl\n"
     ]
    },
    {
     "name": "stdout",
     "output_type": "stream",
     "text": [
      "Valor ingresado no válido, por favor ingrese un numero\n"
     ]
    },
    {
     "name": "stdin",
     "output_type": "stream",
     "text": [
      "Ingrese el angulo del lanzamiento (°):  35\n"
     ]
    },
    {
     "name": "stdout",
     "output_type": "stream",
     "text": [
      "La trayectoria del movimiento es:\n",
      "\n"
     ]
    },
    {
     "data": {
      "image/png": "[encoded data removed]",
      "text/plain": [
       "<Figure size 432x288 with 1 Axes>"
      ]
     },
     "metadata": {
      "needs_background": "light"
     },
     "output_type": "display_data"
    },
    {
     "name": "stdout",
     "output_type": "stream",
     "text": [
      "\n",
      "\n",
      "El objeto tarda 3.01s en caer al suelo, luego de recorrer 49.39 m horizontalmente\n"
     ]
    }
   ],
   "source": [
    "from math import sin, cos, radians, sqrt\n",
    "import matplotlib.pyplot as plot\n",
    "import numpy\n",
    "print('Programa cálculo de Lanzamiento de Proyectil')\n",
    "\n",
    "#Funciones para todos los objetos fundamentales, x(t),y(t) y r(t) respectivamente\n",
    "def MovX(t, x0, v0):\n",
    "    x = x0 + v0*t\n",
    "    return x\n",
    "\n",
    "def MovY(t, x0, v0, g):\n",
    "    y = x0 + (v0*t) + (0.5*g*t**2)\n",
    "    return y\n",
    "\n",
    "def R(t,r0,v0,theta, g):\n",
    "    r[0] = MovX(t,r0[0],v0[0])\n",
    "    r[1] = MovY(t, r0[1],v0[1], g)\n",
    "    return r\n",
    "#Codigo para tratar el problema de movimiento de proyectil\n",
    "while True: \n",
    "    try:\n",
    "        g = float(input('Ingrese el valor de gravedad tomando en consideración el signo'))\n",
    "        #Decidi en este caso colocar la gravedad como algo que el usuario puede ingresar dado el caso que\n",
    "        #desee trabajar con mas exactitud, o si quiere trabajar un caso hipotético que involucre la gravedad\n",
    "        #sea en la luna o en otro planeta.\n",
    "        break\n",
    "    except:\n",
    "        print('Valor ingresado no válido, por favor ingrese un numero')\n",
    "        continue\n",
    "\n",
    "while True: \n",
    "    try:\n",
    "        x0 = float(input('Ingrese la posicion horizontal inicial en (m): '))\n",
    "        break\n",
    "    except:\n",
    "        print('Valor ingresado no válido, por favor ingrese un numero')\n",
    "        continue\n",
    "\n",
    "while True: \n",
    "    try:\n",
    "        y0 = float(input('Ingrese la posicion vertical inicial en (m): '))\n",
    "        break\n",
    "    except:\n",
    "        print('Valor ingresado no válido, por favor ingrese un numero')\n",
    "        continue\n",
    "r0=[x0,y0]\n",
    "\n",
    "while True: \n",
    "    try:\n",
    "        veloc = float(input('Ingrese la rapidez inicial del objeto (m/s): '))\n",
    "        break\n",
    "    except:\n",
    "        print('Valor ingresado no válido, por favor ingrese un numero')\n",
    "        continue\n",
    "\n",
    "while True: \n",
    "    try:\n",
    "        angle = float(input('Ingrese el angulo del lanzamiento (°): '))\n",
    "        break\n",
    "    except:\n",
    "        print('Valor ingresado no válido, por favor ingrese un numero')\n",
    "        continue\n",
    "#He decidido aqui, colocar un try except para cada caso, por si se comete algun error de dedo en\n",
    "#colocar los datos de forma incorrecta, el programa no se crashee y tambien decidi optar por colocar\n",
    "#multiples try except, en lugar de uno solo para todos los input dado que si se equivoca en uno, que no\n",
    "#toque tener que volver a ingresar todos los datos, sino solo aquel en el cual se equivoco.\n",
    "\n",
    "v0=[veloc*cos(radians(angle)),veloc*sin(radians(angle))]\n",
    "#Comandos para obtener el grafico, entre ellos el calculo del tiempo de caida y la posicion de caida\n",
    "tf = float((v0[1]+sqrt(v0[1]**2+2*y0*abs(g)))/abs(g))\n",
    "xf = float(MovX(tf,x0,v0[0]))\n",
    "trange = numpy.arange(0,tf,tf/100)\n",
    "yrange = lambda t: MovY(t,y0,v0[1],g)\n",
    "yrange = list(map(yrange,trange))\n",
    "xrange = lambda t: MovX(t,x0,v0[0])\n",
    "xrange = list(map(xrange,trange))\n",
    "print('La trayectoria del movimiento es:\\n')\n",
    "plot.plot(xrange,yrange)\n",
    "plot.title('Trayectoria del movimiento')\n",
    "plot.xlabel('Eje x (m)')\n",
    "plot.ylabel('Eje y (m)')\n",
    "plot.show()\n",
    "print('\\n')\n",
    "print(f'El objeto tarda {round(tf,4)}s en caer al suelo, luego de recorrer {round(xf,4)} m horizontalmente')"
   ]
  },
  {
   "cell_type": "markdown",
   "metadata": {},
   "source": [
    "**Parte 2: Algunos Cálculos Extras**\n",
    "\n",
    "Altura Máxima"
   ]
  },
  {
   "cell_type": "code",
   "execution_count": 9,
   "metadata": {},
   "outputs": [
    {
     "name": "stdout",
     "output_type": "stream",
     "text": [
      "La altura máxima que alcanza el proyectil es 16.7072 m y la alcanza en un tiempo de 1.1694 s\n"
     ]
    }
   ],
   "source": [
    "hmax = ((veloc**2)*(sin(radians(angle))**2))/(2*abs(g)) + y0\n",
    "thmax = (veloc*(sin(radians(angle))))/(abs(g))\n",
    "print(f'La altura máxima que alcanza el proyectil es {round(hmax,4)} m y la alcanza en un tiempo de {round(thmax,4)} s')"
   ]
  },
  {
   "cell_type": "code",
   "execution_count": null,
   "metadata": {},
   "outputs": [],
   "source": []
  }
 ],
 "metadata": {
  "kernelspec": {
   "display_name": "Python 3",
   "language": "python",
   "name": "python3"
  },
  "language_info": {
   "codemirror_mode": {
    "name": "ipython",
    "version": 3
   },
   "file_extension": ".py",
   "mimetype": "text/x-python",
   "name": "python",
   "nbconvert_exporter": "python",
   "pygments_lexer": "ipython3",
   "version": "3.8.3"
  }
 },
 "nbformat": 4,
 "nbformat_minor": 4
}
