{
 "cells": [
  {
   "cell_type": "code",
   "execution_count": 3,
   "metadata": {},
   "outputs": [
    {
     "name": "stdout",
     "output_type": "stream",
     "text": [
      "Itachi recibió 750 de daño!\n",
      "Itachi recuperó 500.0 HP!\n",
      "No tiene pociones HP Large disponible.\n",
      "       Item Tipo Tamaño  Valor  Cantidad  cod\n",
      "0  HP Small   hp  small    0.5         5  hps\n",
      "1  HP Large   hp  large    1.0         0  hpl\n",
      "2  MP Small   mp  small    0.5         1  mps\n",
      "3  MP Large   mp  large    1.0         0  mpl\n"
     ]
    }
   ],
   "source": [
    "import pandas as pd \n",
    "\n",
    "#Definición de inventario general/dataframe general de los ítems\n",
    "keys=['Item','Tipo','Tamaño','Valor','Cantidad','cod']\n",
    "nm=['HP Small','HP Large','MP Small','MP Large']\n",
    "tp=['hp','hp','mp','mp']\n",
    "size=['small','large','small','large']\n",
    "per=[0.5,1,0.5,1]\n",
    "num=[1,0,1,0]\n",
    "cod=['hps','hpl','mps','mpl']\n",
    "values=[nm,tp,size,per,num,cod]\n",
    "items_database = pd.DataFrame({key:value for key, value in zip(keys, values)})\n",
    "inv_prota= pd.DataFrame({key:value for key, value in zip(keys, values)})\n",
    "#items=pd.DataFrame(diccionario)\n",
    "#Fin de la definición----------------------------------------------\n",
    "\n",
    "#DDefinición de la clase del prota: \n",
    "class Prota:\n",
    "    def __init__(self,name,stats,inv):\n",
    "            #Name: str del nombre; stats: lista con las stats ([HP Maximo, MP Maximo]); \n",
    "            #inv: dataframe general de los items\n",
    "        self.stats={\"hpmax\":stats[0],\"mpmax\":stats[1]}\n",
    "        self.state={\"hp\":stats[0],\"mp\":stats[1]}\n",
    "        self.name=name\n",
    "        self.inv=inv\n",
    "    def putazo (self, hit):\n",
    "            #Cuando el prota reciba un putazo\n",
    "        self.state['hp']-=hit\n",
    "        print(f\"{self.name} recibió {hit} de daño!\")\n",
    "#Fin de la definiión---------------------------------------------------\n",
    "\n",
    "#Definiciónd e clase de ítem\n",
    "class Item:\n",
    "    def __init__(self,cod,inv,descrip='Item random'):\n",
    "            #cod: código del dataframe de los ítems que referencia al ítem (ejemplo, hps para poción de hp\n",
    "            # pequeña); inv: dataframe de los ítems; descrip=Descripción del ítem\n",
    "        self.cod=cod\n",
    "        j=0\n",
    "        for i in inv['cod']:\n",
    "            if self.cod==i:\n",
    "                break\n",
    "            j+=1\n",
    "        self.dtb=inv\n",
    "        self.name=self.dtb.at[j,'Item']\n",
    "        self.index=j#Número de fila del ítem para extraer sus características\n",
    "        self.stat=self.dtb.at[j,'Tipo']\n",
    "        self.valor=self.dtb.at[j,'Valor']\n",
    "        self.descrip=descrip\n",
    "        \n",
    "    def use (self, pj):\n",
    "        if pj.inv.at[self.index,'Cantidad']==0:\n",
    "            print(f\"No tiene pociones {self.name} disponible.\")\n",
    "        elif self.stat=='hp':\n",
    "            pj.state['hp']=pj.state['hp']+pj.stats['hpmax']*self.valor\n",
    "            if pj.state['hp']>=pj.stats['hpmax']:\n",
    "                pj.state['hp']=pj.stats['hpmax']\n",
    "                print(f\"{pj.name} recuperó toda su {self.stat}!\")\n",
    "            else:\n",
    "                print(f\"{pj.name} recuperó {pj.stats['hpmax']*self.valor} HP!\")\n",
    "            pj.inv.at[self.index,'Cantidad']=pj.inv.at[self.index,'Cantidad']-1\n",
    "        elif self.stat=='mp':\n",
    "            pj.state['mp']=pj.state['mp']+pj.stats['mpmax']*self.valor\n",
    "            if pj.state['mp']>=pj.stats['mpmax']:\n",
    "                pj.state['mp']=pj.stats['mpmax']\n",
    "                print(f\"{pj.name} recuperó toda su {self.stat}!\")\n",
    "            else:\n",
    "                print(f\"{pj.name} recuperó {pj.stats['mpmax']*self.valor} MP!\")\n",
    "            pj.inv.at[self.index,'Cantidad']=pj.inv.at[self.index,'Cantidad']-1\n",
    "    def adq (self,pj,n):\n",
    "        pj.inv.at[self.index,'Cantidad']=pj.inv.at[self.index,'Cantidad']+n\n",
    "    def __repr__ (self):\n",
    "        return(self.descrip)\n",
    "Itachi=Prota('Itachi',stats=[1000,1000],inv=inv_prota)\n",
    "hps=Item(cod='hps',inv=items_database)\n",
    "hpl=Item(cod='hpl',inv=items_database)\n",
    "hps.adq(pj=Itachi,n=5)\n",
    "Itachi.putazo(750)\n",
    "hps.use(Itachi)\n",
    "hpl.use(Itachi)\n",
    "print(Itachi.inv)\n"
   ]
  },
  {
   "cell_type": "code",
   "execution_count": 193,
   "metadata": {},
   "outputs": [
    {
     "data": {
      "text/plain": [
       "10"
      ]
     },
     "execution_count": 193,
     "metadata": {},
     "output_type": "execute_result"
    }
   ],
   "source": [
    "{'hp':5,'mp':10}['hp']+5"
   ]
  },
  {
   "cell_type": "code",
   "execution_count": 46,
   "metadata": {},
   "outputs": [
    {
     "data": {
      "text/plain": [
       "10511"
      ]
     },
     "execution_count": 46,
     "metadata": {},
     "output_type": "execute_result"
    }
   ],
   "source": [
    "class test:\n",
    "    def __init__(self,a,b=5,c=10):\n",
    "        self.a=a\n",
    "        self.b=b\n",
    "        self.c=c\n",
    "    def __repr__(self):\n",
    "        return(f'{self.a}{self.b}{self.c}')\n",
    "test(10,c=11)"
   ]
  },
  {
   "cell_type": "code",
   "execution_count": 164,
   "metadata": {},
   "outputs": [
    {
     "name": "stdout",
     "output_type": "stream",
     "text": [
      "       Item Restauración Tamaño Stat  Cantidad  cod\n",
      "0  HP Small           hp  small  0.5         0  hps\n",
      "1  HP Large           hp  large    1         0  hpl\n",
      "2  MP Small           mp  small  0.5         0  mps\n",
      "3  MP Large           mp  large    1         0  mpl\n",
      "HP Small\n",
      "       Item Restauración Tamaño Stat  Cantidad  cod\n",
      "0  HP Small           hp  small  0.5         5  hps\n",
      "1  HP Large           hp  large    1         0  hpl\n",
      "2  MP Small           mp  small  0.5         0  mps\n",
      "3  MP Large           mp  large    1         0  mpl\n"
     ]
    }
   ],
   "source": [
    "keys=['Item','Restauración','Tamaño','Stat','Cantidad','cod']\n",
    "nm=['HP Small','HP Large','MP Small','MP Large']\n",
    "tp=['hp','hp','mp','mp']\n",
    "size=['small','large','small','large']\n",
    "per=['0.5','1','0.5','1']\n",
    "num=[0,0,0,0]\n",
    "cod=['hps','hpl','mps','mpl']\n",
    "values=[nm,tp,size,per,num,cod]\n",
    "diccionario = {key:value for key, value in zip(keys, values)}\n",
    "inven=pd.DataFrame(diccionario)\n",
    "print(inven)\n",
    "#inven.at[3,'Cantidad']=inven.at[3,'Cantidad']-1\n",
    "test='hps'\n",
    "j=0\n",
    "for i in inven['cod']:\n",
    "    if test==i:\n",
    "        print(inven.at[j,'Item'])\n",
    "        break\n",
    "    j+=1\n",
    "#print(inven.at[j,'Restauración'])\n",
    "inven.at[j,'Cantidad']+=5\n",
    "print(inven)"
   ]
  },
  {
   "cell_type": "code",
   "execution_count": null,
   "metadata": {},
   "outputs": [],
   "source": []
  },
  {
   "cell_type": "code",
   "execution_count": null,
   "metadata": {},
   "outputs": [],
   "source": []
  }
 ],
 "metadata": {
  "kernelspec": {
   "display_name": "Python 3",
   "language": "python",
   "name": "python3"
  },
  "language_info": {
   "codemirror_mode": {
    "name": "ipython",
    "version": 3
   },
   "file_extension": ".py",
   "mimetype": "text/x-python",
   "name": "python",
   "nbconvert_exporter": "python",
   "pygments_lexer": "ipython3",
   "version": "3.8.3"
  }
 },
 "nbformat": 4,
 "nbformat_minor": 4
}
